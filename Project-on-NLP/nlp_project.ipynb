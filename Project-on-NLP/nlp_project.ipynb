{
  "nbformat": 4,
  "nbformat_minor": 0,
  "metadata": {
    "kernelspec": {
      "name": "python3",
      "display_name": "Python 3"
    },
    "language_info": {
      "codemirror_mode": {
        "name": "ipython",
        "version": 3
      },
      "file_extension": ".py",
      "mimetype": "text/x-python",
      "name": "python",
      "nbconvert_exporter": "python",
      "pygments_lexer": "ipython3",
      "version": "3.7.3"
    },
    "colab": {
      "name": "nlp_project.ipynb",
      "provenance": [],
      "collapsed_sections": []
    },
    "accelerator": "GPU"
  },
  "cells": [
    {
      "cell_type": "markdown",
      "metadata": {
        "id": "PVKvsN_hG3ZD",
        "colab_type": "text"
      },
      "source": [
        "# Deep Learning for NLP - Project"
      ]
    },
    {
      "cell_type": "markdown",
      "metadata": {
        "id": "iJ5_rttsG3ZH",
        "colab_type": "text"
      },
      "source": [
        "RULES:\n",
        "\n",
        "* Do not create any additional cell\n",
        "\n",
        "* Fill in the blanks\n",
        "\n",
        "* All cells should be runnable (modulo trivial compatibility bugs that we'd fix)\n",
        "\n",
        "* 4 / 20 points will be allocated to the clarity of your code\n",
        "\n",
        "* Efficient code will have a bonus\n",
        "\n",
        "DELIVERABLE:\n",
        "\n",
        "* the pdf with your answers\n",
        "* this notebook\n",
        "* the predictions of the SST test set\n",
        "\n",
        "DO NOT INCLUDE THE DATASETS IN THE DELIVERABLE.."
      ]
    },
    {
      "cell_type": "code",
      "metadata": {
        "jupyter": {
          "outputs_hidden": false
        },
        "id": "AaVVLjvGG3ZK",
        "colab_type": "code",
        "colab": {}
      },
      "source": [
        "# Python 3.6 or above is required\n",
        "from collections import defaultdict\n",
        "import gzip\n",
        "import numpy as np\n",
        "from pathlib import Path\n",
        "from urllib.request import urlretrieve\n",
        "import itertools\n",
        "from sklearn.linear_model import LogisticRegression"
      ],
      "execution_count": 0,
      "outputs": []
    },
    {
      "cell_type": "code",
      "metadata": {
        "id": "dBe3svL-G3ZR",
        "colab_type": "code",
        "colab": {}
      },
      "source": [
        "PATH_TO_DATA = Path('')\n",
        "# Download word vectors, might take a few minutes and about ~3GB of storage space\n",
        "en_embeddings_path = PATH_TO_DATA / 'cc.en.300.vec.gz'\n",
        "if not en_embeddings_path.exists():\n",
        "    urlretrieve('https://dl.fbaipublicfiles.com/fasttext/vectors-crawl/cc.en.300.vec.gz', en_embeddings_path)\n",
        "fr_embeddings_path = PATH_TO_DATA / 'cc.fr.300.vec.gz'\n",
        "if not fr_embeddings_path.exists():\n",
        "    urlretrieve('https://dl.fbaipublicfiles.com/fasttext/vectors-crawl/cc.fr.300.vec.gz', fr_embeddings_path)"
      ],
      "execution_count": 0,
      "outputs": []
    },
    {
      "cell_type": "markdown",
      "metadata": {
        "id": "jJIvSg9LG3ZX",
        "colab_type": "text"
      },
      "source": [
        "# 1) Monolingual (English) word embeddings "
      ]
    },
    {
      "cell_type": "code",
      "metadata": {
        "id": "6nyC8UScG3ZZ",
        "colab_type": "code",
        "colab": {}
      },
      "source": [
        "class Word2Vec():\n",
        "\n",
        "    def __init__(self, filepath, vocab_size=50000):\n",
        "        self.words, self.embeddings = self.load_wordvec(filepath, vocab_size)\n",
        "        # Mappings for O(1) retrieval:\n",
        "        self.word2id = {word: idx for idx, word in enumerate(self.words)}\n",
        "        self.id2word = {idx: word for idx, word in enumerate(self.words)}\n",
        "    \n",
        "    def load_wordvec(self, filepath, vocab_size):\n",
        "        assert str(filepath).endswith('.gz')\n",
        "        words = []\n",
        "        embeddings = []\n",
        "        with gzip.open(filepath, 'rt') as f:  # Read compressed file directly\n",
        "            next(f)  # Skip header\n",
        "            for i, line in enumerate(f):\n",
        "                word, vec = line.split(' ', 1)\n",
        "                words.append(word)\n",
        "                embeddings.append(np.fromstring(vec, sep=' '))\n",
        "                if i == (vocab_size - 1):\n",
        "                    break\n",
        "        print('Loaded %s pretrained word vectors' % (len(words)))\n",
        "        return words, np.vstack(embeddings)\n",
        "    \n",
        "    def encode(self, word):\n",
        "        # Returns the 1D embedding of a given word\n",
        "        try:\n",
        "          ind = self.word2id[word]\n",
        "          return self.embeddings[ind]\n",
        "        except KeyError: \n",
        "          return [0] * len(self.embeddings[0])\n",
        "    \n",
        "    def score(self, word1, word2):\n",
        "        # Return the cosine similarity: use np.dot & np.linalg.norm\n",
        "        emb1, emb2 = self.encode(word1), self.encode(word2)\n",
        "        return np.dot(emb1, emb2) / (np.linalg.norm(emb1) * np.linalg.norm(emb2))\n",
        "    \n",
        "    def most_similar(self, word, k=5):\n",
        "        # Returns the k most similar words: self.score & np.argsort \n",
        "        similarities = [self.score(word, curr_word) for curr_word in self.words]\n",
        "        ind = np.argsort(similarities)[::-1][:k+1]\n",
        "        similar_words = [self.id2word[i] for i in ind]\n",
        "        similar_words.remove(word)\n",
        "        return similar_words"
      ],
      "execution_count": 0,
      "outputs": []
    },
    {
      "cell_type": "code",
      "metadata": {
        "jupyter": {
          "outputs_hidden": false
        },
        "id": "6217yV_5G3Ze",
        "colab_type": "code",
        "outputId": "b41e7616-4ddf-40a4-cc1d-23dc2a23240d",
        "colab": {
          "base_uri": "https://localhost:8080/",
          "height": 238
        }
      },
      "source": [
        "word2vec = Word2Vec(en_embeddings_path, vocab_size=50000)\n",
        "\n",
        "# You will be evaluated on the output of the following:\n",
        "for word1, word2 in zip(('cat', 'cat', 'cat', 'Paris', 'Paris', 'Paris', 'Paris'), ('tree', 'dog', 'pet', 'France', 'Germany', 'baguette', 'donut')):\n",
        "    print(word1, word2, word2vec.score(word1, word2))\n",
        "for word in ['cat', 'dog', 'dogs', 'Paris', 'Germany']:\n",
        "    print(word2vec.most_similar(word))"
      ],
      "execution_count": 12,
      "outputs": [
        {
          "output_type": "stream",
          "text": [
            "Loaded 50000 pretrained word vectors\n",
            "cat tree 0.2644975466165475\n",
            "cat dog 0.7078641298542562\n",
            "cat pet 0.6753313359976381\n",
            "Paris France 0.6892958925806542\n",
            "Paris Germany 0.4051242286737548\n",
            "Paris baguette 0.29399958277802224\n",
            "Paris donut -0.006588507552348005\n",
            "['cats', 'kitty', 'kitten', 'feline', 'dog']\n",
            "['dogs', 'puppy', 'pup', 'canine', 'pet']\n",
            "['dog', 'cats', 'puppies', 'Dogs', 'pets']\n",
            "['France', 'Parisian', 'Marseille', 'Brussels', 'Strasbourg']\n",
            "['Austria', 'Europe', 'Berlin', 'Hamburg', 'Bavaria']\n"
          ],
          "name": "stdout"
        }
      ]
    },
    {
      "cell_type": "code",
      "metadata": {
        "jupyter": {
          "outputs_hidden": false
        },
        "id": "IN1iZv87G3Zm",
        "colab_type": "code",
        "colab": {}
      },
      "source": [
        "class BagOfWords():\n",
        "    \n",
        "    def __init__(self, word2vec):\n",
        "        self.word2vec = word2vec\n",
        "    \n",
        "    def build_idf(self, sentences):\n",
        "        # build the idf dictionary: associate each word to its idf value\n",
        "        # -> idf = {word: idf_value, ...}\n",
        "        idf = {}\n",
        "        all_words = np.array([sentence.split() for sentence in sentences])\n",
        "        all_words = list(itertools.chain.from_iterable(all_words))\n",
        "        for word in all_words:\n",
        "          try:\n",
        "            idf[word] += 1\n",
        "          except KeyError:\n",
        "            idf[word] = 1\n",
        "        N = len(all_words)\n",
        "        for word in idf.keys():\n",
        "            idf[word] = max(np.log10(N / idf[word]), 1)\n",
        "        return idf\n",
        "    \n",
        "    def encode(self, sentence, idf=None):\n",
        "        # Takes a sentence as input, returns the sentence embedding\n",
        "        if idf is None:\n",
        "            # mean of word vectors\n",
        "            return np.mean( [self.word2vec.encode(word) for word in sentence.split()], axis=0 )\n",
        "        else:\n",
        "            # idf-weighted mean of word vectors\n",
        "            emb_size = len(self.word2vec.embeddings[0])\n",
        "            return np.mean( [np.multiply(idf[word], self.word2vec.encode(word)) if word in idf.keys() \n",
        "                             else [0] * emb_size\n",
        "                             for word in sentence.split()], axis=0 )\n",
        "\n",
        "    def cosine_similarity(self, emb1, emb2):\n",
        "        return np.dot(emb1, emb2) / ( np.linalg.norm(emb1) * np.linalg.norm(emb2) )\n",
        "    \n",
        "    def score(self, sentence1, sentence2, idf=None):\n",
        "        # cosine similarity: use np.dot & np.linalg.norm \n",
        "        emb1, emb2 = self.encode(sentence1, idf), self.encode(sentence2, idf)\n",
        "        return self.cosine_similarity(emb1, emb2)\n",
        "    \n",
        "    def most_similar(self, sentence, sentences, idf=None, k=5):\n",
        "        # Return most similar sentences\n",
        "        query = self.encode(sentence, idf)\n",
        "        keys = [self.encode(sentence, idf) for sentence in sentences]\n",
        "        similarities = [self.cosine_similarity(query, key) for key in keys]\n",
        "        ind = np.argsort(similarities)[::-1][:k+1]\n",
        "        similar_sent = [sentences[i] for i in ind]\n",
        "        similar_sent.remove(sentence)\n",
        "        return similar_sent"
      ],
      "execution_count": 0,
      "outputs": []
    },
    {
      "cell_type": "code",
      "metadata": {
        "jupyter": {
          "outputs_hidden": false
        },
        "id": "XmNwnncUG3Zs",
        "colab_type": "code",
        "outputId": "c047fe1d-d9e9-4391-f6ff-37ace51800ef",
        "colab": {
          "base_uri": "https://localhost:8080/",
          "height": 408
        }
      },
      "source": [
        "word2vec = Word2Vec(en_embeddings_path, vocab_size=50000)\n",
        "sentence2vec = BagOfWords(word2vec)\n",
        "\n",
        "# Load sentences in \"PATH_TO_DATA/sentences.txt\"\n",
        "filepath = PATH_TO_DATA / 'sentences.txt'\n",
        "with open(filepath, 'r') as f:\n",
        "    sentences = [line.strip('\\n') for line in f]\n",
        "\n",
        "\n",
        "# You will be evaluated on the output of the following:\n",
        "print('\\n\\tAverage of word embeddings')\n",
        "sentence1 = sentences[7]\n",
        "sentence2 = sentences[13]\n",
        "print(sentence1)\n",
        "print(sentence2)\n",
        "print(sentence2vec.score(sentence1, sentence2))\n",
        "sentence = sentences[10]\n",
        "similar_sentences = sentence2vec.most_similar(sentence, sentences)  # BagOfWords-mean\n",
        "print(sentence)\n",
        "for i, sentence in enumerate(similar_sentences):\n",
        "    print(str(i+1) + ')', sentence)\n",
        "\n",
        "# Build idf scores for each word\n",
        "idf = sentence2vec.build_idf(sentences)\n",
        "\n",
        "print('\\n\\tidf weighted average of word embeddings')\n",
        "print(sentence1)\n",
        "print(sentence2)\n",
        "print(sentence2vec.score(sentence1, sentence2, idf))\n",
        "similar_sentences = sentence2vec.most_similar(sentence, sentences, idf)  # BagOfWords-idf\n",
        "print(sentence)\n",
        "for i, sentence in enumerate(similar_sentences):\n",
        "    print(str(i+1) + ')', sentence)"
      ],
      "execution_count": 14,
      "outputs": [
        {
          "output_type": "stream",
          "text": [
            "Loaded 50000 pretrained word vectors\n",
            "\n",
            "\tAverage of word embeddings\n",
            "1 man singing and 1 man playing a saxophone in a concert . \n",
            "10 people venture out to go crosscountry skiing . \n",
            "0.7065220648251475\n",
            "1 smiling african american boy . \n",
            "1) 2 woman dancing while pointing . \n",
            "2) 5 women and 1 man are smiling for the camera . \n",
            "3) a small boy following 4 geese . \n",
            "4) 2 female babies eating chips . \n",
            "5) a young boy and 2 girls open christmas presents . \n",
            "\n",
            "\tidf weighted average of word embeddings\n",
            "1 man singing and 1 man playing a saxophone in a concert . \n",
            "10 people venture out to go crosscountry skiing . \n",
            "0.6802446406269929\n",
            "a young boy and 2 girls open christmas presents . \n",
            "1) 3 girls and one boy playing in the street . \n",
            "2) 2 older women and a young girl with a red bike . \n",
            "3) a little boy and 4 turkeys walking \n",
            "4) five children , 3 boys and 2 girls playing soccer in a grass field . \n",
            "5) a group of friends , 3 boys and 2 girls , jump in the air holding hands for a photo . \n"
          ],
          "name": "stdout"
        }
      ]
    },
    {
      "cell_type": "markdown",
      "metadata": {
        "id": "2yWOnfa8G3Zy",
        "colab_type": "text"
      },
      "source": [
        "# 2) Multilingual (English-French) word embeddings"
      ]
    },
    {
      "cell_type": "markdown",
      "metadata": {
        "id": "0fBwRmD0G3Zz",
        "colab_type": "text"
      },
      "source": [
        "Let's consider a bilingual dictionary of size V_a (e.g French-English).\n",
        "\n",
        "Let's define **X** and **Y** the **French** and **English** matrices.\n",
        "\n",
        "They contain the embeddings associated to the words in the bilingual dictionary.\n",
        "\n",
        "We want to find a **mapping W** that will project the source word space (e.g French) to the target word space (e.g English).\n",
        "\n",
        "Procrustes : **$W^* = argmin || W.X - Y ||$  s.t $W^T.W = Id$**\n",
        "has a closed form solution:\n",
        "**$W = U.V^T$  where $U.Sig.V^T = SVD(Y.X^T)$**\n",
        "\n",
        "In what follows, you are asked to: "
      ]
    },
    {
      "cell_type": "code",
      "metadata": {
        "id": "xh7Me7AoG3Z1",
        "colab_type": "code",
        "colab": {}
      },
      "source": [
        "class MultilingualWordAligner:\n",
        "    \n",
        "    def __init__(self, fr_word2vec, en_word2vec):\n",
        "        self.fr_word2vec = fr_word2vec\n",
        "        self.en_word2vec = en_word2vec\n",
        "        self.aligned_fr_embeddings = self.get_aligned_fr_embeddings()\n",
        "        \n",
        "    def get_aligned_fr_embeddings(self):\n",
        "        # 1 - Get words that appear in both vocabs (= identical character strings)\n",
        "        #     Use it to create the matrix X (emb_dim, vocab_size) and Y (emb_dim, vocab_size) (of embeddings for these words)\n",
        "        common_words = list(np.intersect1d( fr_word2vec.words, en_word2vec.words ))\n",
        "        XY = [ [fr_word2vec.encode(word), en_word2vec.encode(word)] for word in common_words ]\n",
        "        X, Y = zip(*XY)\n",
        "        X, Y = np.vstack(X).T, np.vstack(Y).T\n",
        "        assert X.shape[0] == 300 and Y.shape[0] == 300\n",
        "        \n",
        "        # 2 - Solve the Procrustes using the numpy package and: np.linalg.svd() and get the optimal W\n",
        "        #     Now self.fr_word2vec.embeddings * W.transpose() is in the same space as en_word2vec.embeddings\n",
        "        U, S, Vt = np.linalg.svd( np.dot(Y, X.T) )\n",
        "        W = np.dot( U, Vt )\n",
        "        assert W.shape == (300, 300)\n",
        "        return np.dot(fr_word2vec.embeddings, W.T)\n",
        "\n",
        "    def cosine_similarity(self, emb1, emb2):\n",
        "        return np.dot(emb1, emb2) / ( np.linalg.norm(emb1) * np.linalg.norm(emb2) )\n",
        "        \n",
        "    def get_closest_english_words(self, fr_word, k=3):\n",
        "        # 3 - Return the top k English nearest neighbors to the input French word\n",
        "        fr_word_ind = self.fr_word2vec.word2id[fr_word]\n",
        "        fr_en_word_emb = self.aligned_fr_embeddings[fr_word_ind]\n",
        "        similarities = [self.cosine_similarity(fr_en_word_emb, en_emb) for en_emb in self.en_word2vec.embeddings]\n",
        "        ind = np.argsort(similarities)[::-1][:k+1]\n",
        "        similar_words = [self.en_word2vec.id2word[i] for i in ind]\n",
        "        return similar_words"
      ],
      "execution_count": 0,
      "outputs": []
    },
    {
      "cell_type": "code",
      "metadata": {
        "id": "RAI_hSVsG3Z5",
        "colab_type": "code",
        "outputId": "7e3e8ae7-4372-41ec-9147-ede943ba0008",
        "colab": {
          "base_uri": "https://localhost:8080/",
          "height": 459
        }
      },
      "source": [
        "fr_word2vec = Word2Vec(fr_embeddings_path, vocab_size=50000)\n",
        "en_word2vec = Word2Vec(en_embeddings_path, vocab_size=50000)\n",
        "multilingual_word_aligner = MultilingualWordAligner(fr_word2vec, en_word2vec)\n",
        "\n",
        "# You will be evaluated on the output of the following:\n",
        "fr_words = ['chat', 'chien', 'voiture', 'zut']\n",
        "k = 3\n",
        "for fr_word in fr_words:\n",
        "    print('-' * 10)\n",
        "    print(f'fr: \"{fr_word}\"')\n",
        "    en_words = multilingual_word_aligner.get_closest_english_words(fr_word, k=3)\n",
        "    for en_word in en_words:\n",
        "        print(f'en: \"{en_word}\"')"
      ],
      "execution_count": 16,
      "outputs": [
        {
          "output_type": "stream",
          "text": [
            "Loaded 50000 pretrained word vectors\n",
            "Loaded 50000 pretrained word vectors\n",
            "----------\n",
            "fr: \"chat\"\n",
            "en: \"cat\"\n",
            "en: \"kitten\"\n",
            "en: \"kitty\"\n",
            "en: \"pet\"\n",
            "----------\n",
            "fr: \"chien\"\n",
            "en: \"dog\"\n",
            "en: \"cat\"\n",
            "en: \"pet\"\n",
            "en: \"pup\"\n",
            "----------\n",
            "fr: \"voiture\"\n",
            "en: \"car\"\n",
            "en: \"vehicle\"\n",
            "en: \"automobile\"\n",
            "en: \"motorbike\"\n",
            "----------\n",
            "fr: \"zut\"\n",
            "en: \"oops\"\n",
            "en: \"Ah\"\n",
            "en: \"ah\"\n",
            "en: \"nope\"\n"
          ],
          "name": "stdout"
        }
      ]
    },
    {
      "cell_type": "markdown",
      "metadata": {
        "id": "Yf-_Q-P_G3Z_",
        "colab_type": "text"
      },
      "source": [
        "If you want to dive deeper on this subject: https://github.com/facebookresearch/MUSE"
      ]
    },
    {
      "cell_type": "markdown",
      "metadata": {
        "id": "guQptyCCG3aB",
        "colab_type": "text"
      },
      "source": [
        "# 3) Sentence classification with BoV and scikit-learn"
      ]
    },
    {
      "cell_type": "code",
      "metadata": {
        "id": "sPomGZQSG3aD",
        "colab_type": "code",
        "outputId": "7d0122ea-8723-46ba-bd93-f6cb80633218",
        "colab": {
          "base_uri": "https://localhost:8080/",
          "height": 34
        }
      },
      "source": [
        "# 1 - Load train/dev/test of Stanford Sentiment TreeBank (SST)\n",
        "#     (https://nlp.stanford.edu/~socherr/EMNLP2013_RNTN.pdf)\n",
        "train_filepath = PATH_TO_DATA / 'SST/stsa.fine.train'\n",
        "dev_filepath = PATH_TO_DATA / 'SST/stsa.fine.dev'\n",
        "test_filepath = PATH_TO_DATA / 'SST/stsa.fine.test.X'\n",
        "\n",
        "# TYPE CODE HERE\n",
        "word2vec = Word2Vec(en_embeddings_path, vocab_size=50000)\n",
        "sentence2vec = BagOfWords(word2vec)\n",
        "\n",
        "def read_to_sentences(filepath, w2v, isY=False):\n",
        "  sentences = []\n",
        "  y = []\n",
        "  with open(filepath, 'r') as f:\n",
        "      lines = [line.strip('\\n') for line in f]\n",
        "      for line in lines:\n",
        "        line_split = line.split(\" \")\n",
        "        if isY:\n",
        "          y.append(line_split[0])\n",
        "          sentence = [word for word in line_split[1:] if word in w2v.words]\n",
        "          sentences.append(\" \".join(sentence))\n",
        "        else:\n",
        "          sentence = [word for word in line_split if word in w2v.words]\n",
        "          sentences.append(\" \".join(sentence))\n",
        "  return sentences, y\n",
        "\n",
        "train_sentences, train_y = read_to_sentences(train_filepath, word2vec, True)\n",
        "dev_sentences, dev_y = read_to_sentences(dev_filepath, word2vec, True)\n",
        "test_sentences, _ = read_to_sentences(test_filepath, word2vec, False)"
      ],
      "execution_count": 17,
      "outputs": [
        {
          "output_type": "stream",
          "text": [
            "Loaded 50000 pretrained word vectors\n"
          ],
          "name": "stdout"
        }
      ]
    },
    {
      "cell_type": "code",
      "metadata": {
        "id": "8t3Qv6MBG3aI",
        "colab_type": "code",
        "colab": {}
      },
      "source": [
        "# 2 - Encode sentences with the BoV model above\n",
        "\n",
        "# TYPE CODE HERE\n",
        "train_bov = []\n",
        "train_idf_bov = []\n",
        "train_idf = sentence2vec.build_idf(train_sentences)\n",
        "for sentence in train_sentences:\n",
        "    train_bov.append(sentence2vec.encode(sentence))\n",
        "    train_idf_bov.append(sentence2vec.encode(sentence, train_idf))    \n",
        "\n",
        "dev_bov = []\n",
        "dev_idf_bov = []\n",
        "dev_idf = sentence2vec.build_idf(dev_sentences)\n",
        "for sentence in dev_sentences:\n",
        "    dev_bov.append(sentence2vec.encode(sentence))\n",
        "    dev_idf_bov.append(sentence2vec.encode(sentence, dev_idf))  \n",
        "\n",
        "test_bov = []\n",
        "test_idf_bov = []\n",
        "test_idf = sentence2vec.build_idf(test_sentences)\n",
        "for sentence in test_sentences:\n",
        "    test_bov.append(sentence2vec.encode(sentence))\n",
        "    test_idf_bov.append(sentence2vec.encode(sentence, test_idf))  "
      ],
      "execution_count": 0,
      "outputs": []
    },
    {
      "cell_type": "code",
      "metadata": {
        "id": "Y4wg7ZfaG3aM",
        "colab_type": "code",
        "outputId": "10d9ad84-f706-41e0-f6eb-d264a6c9037c",
        "colab": {
          "base_uri": "https://localhost:8080/",
          "height": 85
        }
      },
      "source": [
        "# 3 - Learn Logistic Regression on top of sentence embeddings using scikit-learn\n",
        "#     (consider tuning the L2 regularization on the dev set)\n",
        "#     In the paper, the accuracy for average of word vectors is 32.7%\n",
        "#     (VecAvg, table 1, https://nlp.stanford.edu/~socherr/EMNLP2013_RNTN.pdf)\n",
        "\n",
        "# TYPE CODE HERE\n",
        "logreg_clf = LogisticRegression(penalty=\"l2\", max_iter=500, C=1)\n",
        "logreg_clf.fit(train_bov, train_y)\n",
        "print(\"Accuracy on the training set (average): \", logreg_clf.score(train_bov, train_y))\n",
        "print(\"Accuracy on the validation set (average): \", logreg_clf.score(dev_bov, dev_y))\n",
        "\n",
        "logreg_clf_idf = LogisticRegression(penalty=\"l2\", max_iter=500, C=0.7)\n",
        "logreg_clf_idf.fit(train_idf_bov, train_y)\n",
        "print(\"Accuracy on the training set (weighted-average): \", logreg_clf_idf.score(train_idf_bov, train_y))\n",
        "print(\"Accuracy on the validation set (weighted-average): \", logreg_clf_idf.score(dev_idf_bov, dev_y))"
      ],
      "execution_count": 0,
      "outputs": [
        {
          "output_type": "stream",
          "text": [
            "Accuracy on the training set (average):  0.4288389513108614\n",
            "Accuracy on the validation set (average):  0.3905540417801998\n",
            "Accuracy on the training set (weighted-average):  0.46886704119850187\n",
            "Accuracy on the validation set (weighted-average):  0.42779291553133514\n"
          ],
          "name": "stdout"
        }
      ]
    },
    {
      "cell_type": "code",
      "metadata": {
        "id": "ZKj-Rk1NG3aR",
        "colab_type": "code",
        "colab": {}
      },
      "source": [
        "# 4 - Produce 2210 predictions for the test set (in the same order). One line = one prediction (=0,1,2,3,4).\n",
        "#     Attach the output file \"logreg_bov_y_test_sst.txt\" to your deliverable.\n",
        "#     You will be evaluated on the results of the test set.\n",
        "\n",
        "# TYPE CODE HERE\n",
        "logreg_clf_idf = LogisticRegression(penalty=\"l2\", max_iter=500, C=0.7)\n",
        "logreg_clf_idf.fit(train_idf_bov + dev_idf_bov, train_y + dev_y)\n",
        "test_y_pred = logreg_clf_idf.predict(test_idf_bov)\n",
        "np.savetxt(\"logreg_bov_y_test_sst.txt\", test_y_pred.astype(int), fmt='%i', delimiter=\"\\n\")"
      ],
      "execution_count": 0,
      "outputs": []
    },
    {
      "cell_type": "code",
      "metadata": {
        "id": "qha3J9AxG3aW",
        "colab_type": "code",
        "outputId": "f717c362-e2c6-44e7-9db9-5911e8b78d55",
        "colab": {
          "base_uri": "https://localhost:8080/",
          "height": 85
        }
      },
      "source": [
        "# BONUS!\n",
        "# 5 - Try to improve performance with another classifier\n",
        "#     Attach the output file \"XXX_bov_y_test_sst.txt\" to your deliverable (where XXX = the name of the classifier)\n",
        "\n",
        "# TYPE CODE HERE\n",
        "from sklearn.neural_network import MLPClassifier\n",
        "NN_clf = MLPClassifier(hidden_layer_sizes=(30, 10), alpha=0.001, batch_size=32, \n",
        "                   validation_fraction = 0.1, early_stopping = True, verbose = False, \n",
        "                   random_state = 777, learning_rate='adaptive', max_iter=150, \n",
        "                   learning_rate_init=0.0005, activation=\"relu\", solver=\"adam\")\n",
        "NN_clf.fit(train_bov, train_y)\n",
        "print(\"Accuracy on the training set (average): \", NN_clf.score(train_bov, train_y))\n",
        "print(\"Accuracy on the validation set (average): \", NN_clf.score(dev_bov, dev_y))\n",
        "\n",
        "NN_clf_idf = MLPClassifier(hidden_layer_sizes=(30, 10), alpha=0.001, batch_size=32, \n",
        "                   validation_fraction = 0.1, early_stopping = True, verbose = False, \n",
        "                   random_state = 777, learning_rate='adaptive', max_iter=150, \n",
        "                   learning_rate_init=0.0005, activation=\"relu\", solver=\"adam\")\n",
        "NN_clf_idf.fit(train_idf_bov, train_y)\n",
        "print(\"Accuracy on the training set (weighted-average): \", NN_clf_idf.score(train_idf_bov, train_y))\n",
        "print(\"Accuracy on the validation set (weighted-average): \", NN_clf_idf.score(dev_idf_bov, dev_y))\n",
        "\n",
        "NN_clf_idf.fit(train_idf_bov + dev_idf_bov, train_y + dev_y)\n",
        "test_y_pred = NN_clf_idf.predict(test_idf_bov)\n",
        "np.savetxt(\"mlpclassifier_bov_y_test_sst.txt\", test_y_pred.astype(int), fmt='%i', delimiter=\"\\n\")"
      ],
      "execution_count": 0,
      "outputs": [
        {
          "output_type": "stream",
          "text": [
            "Accuracy on the training set (average):  0.46348314606741575\n",
            "Accuracy on the validation set (average):  0.4114441416893733\n",
            "Accuracy on the training set (weighted-average):  0.47787921348314605\n",
            "Accuracy on the validation set (weighted-average):  0.4150772025431426\n"
          ],
          "name": "stdout"
        }
      ]
    },
    {
      "cell_type": "markdown",
      "metadata": {
        "id": "I83_d2ZnG3ad",
        "colab_type": "text"
      },
      "source": [
        "# 4) Sentence classification with LSTMs in Keras"
      ]
    },
    {
      "cell_type": "markdown",
      "metadata": {
        "id": "dT9qndMEG3ae",
        "colab_type": "text"
      },
      "source": [
        "## 4.1 - Preprocessing"
      ]
    },
    {
      "cell_type": "code",
      "metadata": {
        "jupyter": {
          "outputs_hidden": false
        },
        "id": "GybFqxEuG3ag",
        "colab_type": "code",
        "colab": {
          "base_uri": "https://localhost:8080/",
          "height": 80
        },
        "outputId": "a63c084c-1d3f-4e65-a3d5-e7f35c5a7a47"
      },
      "source": [
        "import tensorflow as tf\n",
        "from tensorflow.keras.preprocessing.text import one_hot, Tokenizer\n",
        "from tensorflow.keras.preprocessing.sequence import pad_sequences\n",
        "from tensorflow.keras.models import Sequential, Model\n",
        "from tensorflow.keras.layers import Embedding, LSTM, Dense, Activation, Input, GlobalMaxPooling1D\n",
        "from tensorflow.keras.layers import Conv1D, MaxPooling1D, Dropout, Bidirectional, TimeDistributed, Flatten\n",
        "from tensorflow.keras.backend import clear_session\n",
        "from tensorflow.keras.callbacks import EarlyStopping, ModelCheckpoint, LearningRateScheduler\n",
        "from tensorflow.keras import optimizers\n",
        "from keras.utils.np_utils import to_categorical\n",
        "from tensorflow.keras.initializers import Constant\n",
        "import matplotlib.pyplot as plt"
      ],
      "execution_count": 19,
      "outputs": [
        {
          "output_type": "display_data",
          "data": {
            "text/html": [
              "<p style=\"color: red;\">\n",
              "The default version of TensorFlow in Colab will soon switch to TensorFlow 2.x.<br>\n",
              "We recommend you <a href=\"https://www.tensorflow.org/guide/migrate\" target=\"_blank\">upgrade</a> now \n",
              "or ensure your notebook will continue to use TensorFlow 1.x via the <code>%tensorflow_version 1.x</code> magic:\n",
              "<a href=\"https://colab.research.google.com/notebooks/tensorflow_version.ipynb\" target=\"_blank\">more info</a>.</p>\n"
            ],
            "text/plain": [
              "<IPython.core.display.HTML object>"
            ]
          },
          "metadata": {
            "tags": []
          }
        },
        {
          "output_type": "stream",
          "text": [
            "Using TensorFlow backend.\n"
          ],
          "name": "stderr"
        }
      ]
    },
    {
      "cell_type": "code",
      "metadata": {
        "id": "tJ1lUIw7G3al",
        "colab_type": "code",
        "colab": {}
      },
      "source": [
        "# 1 - Using the same dataset, transform text to integers using tf.keras.preprocessing.text.one_hot function\n",
        "#     https://keras.io/preprocessing/text/\n",
        "\n",
        "# TYPE CODE HERE\n",
        "N_vocab = 50000\n",
        "train_onehot = []\n",
        "for sentence in train_sentences:\n",
        "  train_onehot.append(one_hot(sentence, N_vocab))\n",
        "\n",
        "dev_onehot = []\n",
        "for sentence in dev_sentences:\n",
        "  dev_onehot.append(one_hot(sentence, N_vocab))\n",
        "\n",
        "test_onehot = []\n",
        "for sentence in test_sentences:\n",
        "  test_onehot.append(one_hot(sentence, N_vocab))"
      ],
      "execution_count": 0,
      "outputs": []
    },
    {
      "cell_type": "markdown",
      "metadata": {
        "id": "JZVwebefG3ap",
        "colab_type": "text"
      },
      "source": [
        "**Padding input data**\n",
        "\n",
        "Models in Keras (and elsewhere) take batches of sentences of the same length as input. It is because Deep Learning framework have been designed to handle well Tensors, which are particularly suited for fast computation on the GPU.\n",
        "\n",
        "Since sentences have different sizes, we \"pad\" them. That is, we add dummy \"padding\" tokens so that they all have the same length.\n",
        "\n",
        "The input to a Keras model thus has this size : (batchsize, maxseqlen) where maxseqlen is the maximum length of a sentence in the batch."
      ]
    },
    {
      "cell_type": "code",
      "metadata": {
        "id": "DQIoqjOqG3aq",
        "colab_type": "code",
        "colab": {}
      },
      "source": [
        "# 2 - Pad your sequences using tf.keras.preprocessing.sequence.pad_sequences\n",
        "#     https://keras.io/preprocessing/sequence/\n",
        "\n",
        "# TYPE CODE HERE\n",
        "max_len = min(500,max([len(sentence) for sentence in train_sentences + dev_sentences + test_sentences]) )\n",
        "\n",
        "train_dl = pad_sequences(train_onehot, maxlen=max_len)\n",
        "dev_dl   = pad_sequences(dev_onehot, maxlen=max_len)\n",
        "test_dl  = pad_sequences(test_onehot, maxlen=max_len)"
      ],
      "execution_count": 0,
      "outputs": []
    },
    {
      "cell_type": "markdown",
      "metadata": {
        "id": "kGKE_KVlG3au",
        "colab_type": "text"
      },
      "source": [
        "## 4.2 - Design and train your model"
      ]
    },
    {
      "cell_type": "code",
      "metadata": {
        "id": "bsloaO91G3av",
        "colab_type": "code",
        "colab": {}
      },
      "source": [
        "# 3 - Design your encoder + classifier using tensorflow.keras.layers\n",
        "#     In Keras, Torch and other deep learning framework, we create a \"container\" which is the Sequential() module.\n",
        "#     Then we add components to this container : the lookup-table, the LSTM, the classifier etc.\n",
        "#     All of these components are contained in the Sequential() and are trained together.\n",
        "#     Note that the embedding layer is initialized randomly and does not take advantage of pre-trained word embeddings.\n",
        "\n",
        "# ADAPT CODE BELOW\n",
        "clear_session()\n",
        "\n",
        "embed_dim  = 300  # word embedding dimension\n",
        "nhid       = 500  # number of hidden units in the LSTM\n",
        "vocab_size = N_vocab  # size of the vocabulary\n",
        "n_classes  = 5\n",
        "\n",
        "model = Sequential()\n",
        "model.add(Embedding(vocab_size, embed_dim))\n",
        "model.add(LSTM(nhid, dropout=0.3, recurrent_dropout=0.3, activation=\"relu\", kernel_regularizer=\"l2\", recurrent_regularizer=\"l2\"))\n",
        "model.add(Dense(n_classes, activation='softmax'))"
      ],
      "execution_count": 0,
      "outputs": []
    },
    {
      "cell_type": "code",
      "metadata": {
        "jupyter": {
          "outputs_hidden": false
        },
        "id": "BxFatND8G3a2",
        "colab_type": "code",
        "outputId": "1233ae0d-52b1-4979-ef1d-beefd89339fd",
        "colab": {
          "base_uri": "https://localhost:8080/",
          "height": 272
        }
      },
      "source": [
        "# 4 - Define your loss/optimizer/metrics\n",
        "\n",
        "# MODIFY CODE BELOW\n",
        "mc = ModelCheckpoint(\"best_model\", monitor='val_loss', verbose=0, save_best_only=True)\n",
        "ls = LearningRateScheduler(lambda x: 0.0001 + 0.0001/(x+1)**2)\n",
        "es = EarlyStopping(monitor='val_loss', patience=7)\n",
        "cb = [es, mc, ls]\n",
        "\n",
        "loss_classif     =  'categorical_crossentropy' # find the right loss for multi-class classification\n",
        "optimizer        =  optimizers.Adam(lr=0.0001) # find the right optimizer\n",
        "metrics_classif  =  ['accuracy']\n",
        "\n",
        "# Observe how easy (but blackboxed) this is in Keras\n",
        "model.compile(loss=loss_classif,\n",
        "              optimizer=optimizer,\n",
        "              metrics=metrics_classif)\n",
        "print(model.summary())"
      ],
      "execution_count": 27,
      "outputs": [
        {
          "output_type": "stream",
          "text": [
            "Model: \"sequential\"\n",
            "_________________________________________________________________\n",
            "Layer (type)                 Output Shape              Param #   \n",
            "=================================================================\n",
            "embedding (Embedding)        (None, None, 300)         15000000  \n",
            "_________________________________________________________________\n",
            "lstm (LSTM)                  (None, 500)               1602000   \n",
            "_________________________________________________________________\n",
            "dense (Dense)                (None, 5)                 2505      \n",
            "=================================================================\n",
            "Total params: 16,604,505\n",
            "Trainable params: 16,604,505\n",
            "Non-trainable params: 0\n",
            "_________________________________________________________________\n",
            "None\n"
          ],
          "name": "stdout"
        }
      ]
    },
    {
      "cell_type": "code",
      "metadata": {
        "id": "bhY4AIbDG3a9",
        "colab_type": "code",
        "outputId": "dada26b1-ce58-4377-9b94-c7b7f357619e",
        "colab": {
          "base_uri": "https://localhost:8080/",
          "height": 470
        }
      },
      "source": [
        "# 5 - Train your model and find the best hyperparameters for your dev set\n",
        "#     you will be evaluated on the quality of your predictions on the test set\n",
        "#     Keras expects y_train and y_dev to be one-hot encodings of the labels, i.e. with shape=(n_samples, 5)\n",
        "\n",
        "# ADAPT CODE BELOW\n",
        "bs = 32\n",
        "n_epochs = 5\n",
        "\n",
        "# shuffle data\n",
        "indices = np.arange(train_dl.shape[0])\n",
        "np.random.shuffle(indices)\n",
        "train_dl = train_dl[indices]\n",
        "\n",
        "# transform labels to categorical\n",
        "train_y_dl = to_categorical(train_y, num_classes=n_classes)\n",
        "train_y_dl = train_y_dl[indices]\n",
        "dev_y_dl   = to_categorical(dev_y, num_classes=n_classes)\n",
        "\n",
        "# fit model\n",
        "history = model.fit(train_dl, train_y_dl, batch_size=bs, epochs=n_epochs, \n",
        "                    validation_data=(dev_dl, dev_y_dl), callbacks=cb)\n",
        "\n",
        "#####################################################\n",
        "# define function to plot results evolution\n",
        "def plot_acc_loss(history, n_epochs):\n",
        "    epochs = range(n_epochs)\n",
        "    fig = plt.figure(figsize=(13,4))\n",
        "    fig.suptitle('Evolution of train/dev results w.r.t the number of epochs', fontsize=16)\n",
        "    colors = ['tab:red', 'tab:blue']\n",
        "\n",
        "    plt.subplot(1,2,1)\n",
        "    plt.xlabel('# epochs', fontsize=16)\n",
        "    plt.ylabel('Accuracy', fontsize=16)\n",
        "    plt.xticks(fontsize=14)\n",
        "    plt.yticks(fontsize=14)\n",
        "    plt.plot(epochs, history.history['acc'], color=colors[0], label=\"Train set\")\n",
        "    plt.plot(epochs, history.history['val_acc'], color=colors[1], label=\"Validation set\")\n",
        "    plt.legend()\n",
        "\n",
        "    plt.subplot(1,2,2)\n",
        "    plt.xlabel('# epochs', fontsize=16)\n",
        "    plt.ylabel('Loss value', fontsize=16)\n",
        "    plt.xticks(fontsize=14)\n",
        "    plt.yticks(fontsize=14)\n",
        "    plt.plot(epochs, history.history['loss'], color=colors[0], label=\"Train set\")\n",
        "    plt.plot(epochs, history.history['val_loss'], color=colors[1], label=\"Validation set\")\n",
        "    plt.legend()\n",
        "\n",
        "    fig.tight_layout(pad=3)\n",
        "\n",
        "plot_acc_loss(history, len(history.history['loss']))"
      ],
      "execution_count": 28,
      "outputs": [
        {
          "output_type": "stream",
          "text": [
            "Train on 8544 samples, validate on 1101 samples\n",
            "Epoch 1/5\n",
            "8544/8544 [==============================] - 111s 13ms/sample - loss: 4.3395 - acc: 0.2700 - val_loss: 1.8099 - val_acc: 0.2534\n",
            "Epoch 2/5\n",
            "8544/8544 [==============================] - 111s 13ms/sample - loss: 1.6528 - acc: 0.2725 - val_loss: 1.5909 - val_acc: 0.2534\n",
            "Epoch 3/5\n",
            "8544/8544 [==============================] - 109s 13ms/sample - loss: 1.5723 - acc: 0.2949 - val_loss: 1.5756 - val_acc: 0.2570\n",
            "Epoch 4/5\n",
            "8544/8544 [==============================] - 110s 13ms/sample - loss: 1.5606 - acc: 0.3207 - val_loss: 1.5748 - val_acc: 0.2770\n",
            "Epoch 5/5\n",
            "8544/8544 [==============================] - 110s 13ms/sample - loss: 1.5390 - acc: 0.3599 - val_loss: 1.5452 - val_acc: 0.3588\n"
          ],
          "name": "stdout"
        },
        {
          "output_type": "display_data",
          "data": {
            "image/png": "[encoded data removed]",
            "text/plain": [
              "<Figure size 936x288 with 2 Axes>"
            ]
          },
          "metadata": {
            "tags": []
          }
        }
      ]
    },
    {
      "cell_type": "code",
      "metadata": {
        "id": "1LZzH6iFG3bA",
        "colab_type": "code",
        "colab": {}
      },
      "source": [
        "# 6 - Generate your predictions on the test set using model.predict(x_test)\n",
        "#     https://keras.io/models/model/\n",
        "#     Log your predictions in a file (one line = one integer: 0,1,2,3,4)\n",
        "#     Attach the output file \"logreg_lstm_y_test_sst.txt\" to your deliverable.\n",
        "\n",
        "# TYPE CODE HERE\n",
        "test_y_pred = model.predict_classes(test_dl)\n",
        "np.savetxt(\"logreg_lstm_y_test_sst.txt\", test_y_pred.astype(int), fmt='%i', delimiter=\"\\n\")"
      ],
      "execution_count": 0,
      "outputs": []
    },
    {
      "cell_type": "markdown",
      "metadata": {
        "id": "TaXH5YZQG3bE",
        "colab_type": "text"
      },
      "source": [
        "## 4.3 - innovate !"
      ]
    },
    {
      "cell_type": "code",
      "metadata": {
        "id": "XUGHPvHz-fMB",
        "colab_type": "code",
        "outputId": "a279548b-42ec-4d83-9729-d605526b2cbe",
        "colab": {
          "base_uri": "https://localhost:8080/",
          "height": 643
        }
      },
      "source": [
        "# 7 - Open question: find a model that is better on your dev set\n",
        "#     (e.g: use a 1D ConvNet, use a better classifier, pretrain your lookup tables ..)\n",
        "#     you will get point if the results on the test set are better: be careful of not overfitting your dev set too much..\n",
        "#     Attach the output file \"XXX_XXX_y_test_sst.txt\" to your deliverable.\n",
        "\n",
        "MAX_SEQUENCE_LENGTH = max_len\n",
        "MAX_NUM_WORDS = 200000\n",
        "EMBEDDING_DIM = 300\n",
        "VALIDATION_SPLIT = 0.2\n",
        "\n",
        "# define class weights (as we deal with unbalanced dataset)\n",
        "_, cnts = np.unique(train_y, return_counts=True)\n",
        "class_weights = {}\n",
        "for i in range(n_classes):\n",
        "    class_weights[i] = len(train_y) / cnts[i]\n",
        "\n",
        "# vectorize the text samples into a 2D integer tensor\n",
        "tokenizer = Tokenizer(num_words=MAX_NUM_WORDS)\n",
        "texts = train_sentences + dev_sentences\n",
        "labels = train_y + dev_y\n",
        "tokenizer.fit_on_texts(texts)\n",
        "sequences = tokenizer.texts_to_sequences(texts)\n",
        "tokenizer.fit_on_texts(test_sentences)\n",
        "test_sequences = tokenizer.texts_to_sequences(test_sentences)\n",
        "\n",
        "word_index = tokenizer.word_index\n",
        "print('Found %s unique tokens.' % len(word_index))\n",
        "\n",
        "data = pad_sequences(sequences, maxlen=MAX_SEQUENCE_LENGTH)\n",
        "x_test = pad_sequences(test_sequences, maxlen=MAX_SEQUENCE_LENGTH)\n",
        "\n",
        "labels = to_categorical(np.asarray(labels))\n",
        "print('Shape of data tensor:', data.shape)\n",
        "print('Shape of label tensor:', labels.shape)\n",
        "\n",
        "# shuffle and split the data into a training set and a validation set\n",
        "indices = np.arange(data.shape[0])\n",
        "np.random.shuffle(indices)\n",
        "data = data[indices]\n",
        "labels = labels[indices]\n",
        "num_validation_samples = len(dev_sentences)\n",
        "\n",
        "x_train = data[:-num_validation_samples]\n",
        "y_train = labels[:-num_validation_samples]\n",
        "x_val = data[-num_validation_samples:]\n",
        "y_val = labels[-num_validation_samples:]\n",
        "\n",
        "print('Preparing embedding matrix.')\n",
        "\n",
        "# prepare embedding matrix\n",
        "num_words = min(MAX_NUM_WORDS, len(word_index) + 1)\n",
        "embedding_matrix = np.zeros((num_words, EMBEDDING_DIM))\n",
        "for word, i in word_index.items():\n",
        "    if i >= MAX_NUM_WORDS:\n",
        "        continue\n",
        "    try :\n",
        "      embedding_vector = word2vec.embeddings[word2vec.word2id[word]]\n",
        "    except KeyError:\n",
        "      embedding_vector = None\n",
        "    if embedding_vector is not None:\n",
        "        # words not found in embedding index will be all-zeros.\n",
        "        embedding_matrix[i] = embedding_vector\n",
        "\n",
        "# load pre-trained word embeddings into an Embedding layer\n",
        "embedding_layer = Embedding(num_words,\n",
        "                            EMBEDDING_DIM,\n",
        "                            embeddings_initializer=Constant(embedding_matrix),\n",
        "                            input_length=MAX_SEQUENCE_LENGTH,\n",
        "                            trainable=True)\n",
        "print('Training model.')\n",
        "\n",
        "# train model\n",
        "clear_session()\n",
        "model = Sequential()\n",
        "model.add(embedding_layer)\n",
        "model.add(Bidirectional(LSTM(250, dropout=0.5, kernel_regularizer=\"l2\")))\n",
        "model.add(Dense(n_classes, activation='softmax'))\n",
        "\n",
        "model.compile(loss='categorical_crossentropy',\n",
        "              optimizer='adam',\n",
        "              metrics=['acc'], weighted_metrics=[\"acc\"])\n",
        "\n",
        "es = EarlyStopping(monitor='val_weighted_acc', patience=3)\n",
        "cb = [es]\n",
        "\n",
        "history = model.fit(x_train, y_train,\n",
        "          batch_size=32,\n",
        "          epochs=100,\n",
        "          validation_data=(x_val, y_val),\n",
        "          callbacks=cb, class_weight=class_weights)\n",
        "\n",
        "plot_acc_loss(history, len(history.history['loss']))"
      ],
      "execution_count": 35,
      "outputs": [
        {
          "output_type": "stream",
          "text": [
            "Found 11226 unique tokens.\n",
            "Shape of data tensor: (9645, 251)\n",
            "Shape of label tensor: (9645, 5)\n",
            "Preparing embedding matrix.\n",
            "Training model.\n",
            "Train on 8544 samples, validate on 1101 samples\n",
            "Epoch 1/100\n",
            "8544/8544 [==============================] - 230s 27ms/sample - loss: 8.8680 - acc: 0.2283 - weighted_acc: 0.2394 - val_loss: 1.7150 - val_acc: 0.2561 - val_weighted_acc: 0.2561\n",
            "Epoch 2/100\n",
            "8544/8544 [==============================] - 234s 27ms/sample - loss: 7.2347 - acc: 0.3296 - weighted_acc: 0.3676 - val_loss: 1.7032 - val_acc: 0.3315 - val_weighted_acc: 0.3315\n",
            "Epoch 3/100\n",
            "8544/8544 [==============================] - 232s 27ms/sample - loss: 6.1558 - acc: 0.4586 - weighted_acc: 0.4952 - val_loss: 1.7258 - val_acc: 0.3551 - val_weighted_acc: 0.3551\n",
            "Epoch 4/100\n",
            "8544/8544 [==============================] - 227s 27ms/sample - loss: 5.1785 - acc: 0.5823 - weighted_acc: 0.6113 - val_loss: 1.8811 - val_acc: 0.3569 - val_weighted_acc: 0.3569\n",
            "Epoch 5/100\n",
            "8544/8544 [==============================] - 228s 27ms/sample - loss: 4.3097 - acc: 0.6778 - weighted_acc: 0.7011 - val_loss: 2.0593 - val_acc: 0.3542 - val_weighted_acc: 0.3542\n",
            "Epoch 6/100\n",
            "8544/8544 [==============================] - 229s 27ms/sample - loss: 3.6001 - acc: 0.7484 - weighted_acc: 0.7656 - val_loss: 2.3897 - val_acc: 0.3497 - val_weighted_acc: 0.3497\n",
            "Epoch 7/100\n",
            "8544/8544 [==============================] - 228s 27ms/sample - loss: 2.9768 - acc: 0.8055 - weighted_acc: 0.8182 - val_loss: 2.4451 - val_acc: 0.3506 - val_weighted_acc: 0.3506\n"
          ],
          "name": "stdout"
        },
        {
          "output_type": "display_data",
          "data": {
            "image/png": "[encoded data removed]",
            "text/plain": [
              "<Figure size 936x288 with 2 Axes>"
            ]
          },
          "metadata": {
            "tags": []
          }
        }
      ]
    },
    {
      "cell_type": "code",
      "metadata": {
        "id": "MmjVffG8DA-z",
        "colab_type": "code",
        "colab": {
          "base_uri": "https://localhost:8080/",
          "height": 207
        },
        "outputId": "b54d35d7-9635-4fc2-ec85-39c95205b320"
      },
      "source": [
        "model.fit(np.concatenate([x_train, x_val]), np.concatenate([y_train, y_val]), \n",
        "          batch_size=32, nb_epoch=4, validation_split=0.2,\n",
        "          callbacks=cb, class_weight=class_weights)\n",
        "test_y_pred = model.predict_classes(x_test)\n",
        "np.savetxt(\"nn_bilstm_y_test_sst.txt\", test_y_pred.astype(int), fmt='%i', delimiter=\"\\n\")"
      ],
      "execution_count": 38,
      "outputs": [
        {
          "output_type": "stream",
          "text": [
            "WARNING:tensorflow:The `nb_epoch` argument in `fit` has been renamed `epochs`.\n",
            "Train on 7716 samples, validate on 1929 samples\n",
            "Epoch 1/4\n",
            "7716/7716 [==============================] - 213s 28ms/sample - loss: 2.9118 - acc: 0.8196 - weighted_acc: 0.8348 - val_loss: 1.7922 - val_acc: 0.5697 - val_weighted_acc: 0.5697\n",
            "Epoch 2/4\n",
            "7716/7716 [==============================] - 217s 28ms/sample - loss: 2.1889 - acc: 0.8696 - weighted_acc: 0.8796 - val_loss: 1.9271 - val_acc: 0.5469 - val_weighted_acc: 0.5469\n",
            "Epoch 3/4\n",
            "7716/7716 [==============================] - 208s 27ms/sample - loss: 1.8464 - acc: 0.8946 - weighted_acc: 0.9028 - val_loss: 2.0664 - val_acc: 0.5251 - val_weighted_acc: 0.5251\n",
            "Epoch 4/4\n",
            "7716/7716 [==============================] - 208s 27ms/sample - loss: 1.6045 - acc: 0.9126 - weighted_acc: 0.9202 - val_loss: 2.1281 - val_acc: 0.5143 - val_weighted_acc: 0.5143\n"
          ],
          "name": "stdout"
        }
      ]
    },
    {
      "cell_type": "code",
      "metadata": {
        "id": "x8aIghjcHuEJ",
        "colab_type": "code",
        "colab": {}
      },
      "source": [
        ""
      ],
      "execution_count": 0,
      "outputs": []
    }
  ]
}